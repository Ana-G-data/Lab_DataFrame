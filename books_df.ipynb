{
 "cells": [
  {
   "cell_type": "code",
   "execution_count": 2,
   "metadata": {},
   "outputs": [],
   "source": [
    "import pandas as pd"
   ]
  },
  {
   "cell_type": "code",
   "execution_count": 4,
   "metadata": {},
   "outputs": [
    {
     "data": {
      "text/html": [
       "<div>\n",
       "<style scoped>\n",
       "    .dataframe tbody tr th:only-of-type {\n",
       "        vertical-align: middle;\n",
       "    }\n",
       "\n",
       "    .dataframe tbody tr th {\n",
       "        vertical-align: top;\n",
       "    }\n",
       "\n",
       "    .dataframe thead th {\n",
       "        text-align: right;\n",
       "    }\n",
       "</style>\n",
       "<table border=\"1\" class=\"dataframe\">\n",
       "  <thead>\n",
       "    <tr style=\"text-align: right;\">\n",
       "      <th></th>\n",
       "      <th>author_average_rating</th>\n",
       "      <th>author_gender</th>\n",
       "      <th>author_genres</th>\n",
       "      <th>author_id</th>\n",
       "      <th>author_name</th>\n",
       "      <th>author_page_url</th>\n",
       "      <th>author_rating_count</th>\n",
       "      <th>author_review_count</th>\n",
       "      <th>birthplace</th>\n",
       "      <th>book_average_rating</th>\n",
       "      <th>book_fullurl</th>\n",
       "      <th>book_id</th>\n",
       "      <th>book_title</th>\n",
       "      <th>genre_1</th>\n",
       "      <th>genre_2</th>\n",
       "      <th>num_ratings</th>\n",
       "      <th>num_reviews</th>\n",
       "      <th>pages</th>\n",
       "      <th>publish_date</th>\n",
       "      <th>score</th>\n",
       "    </tr>\n",
       "  </thead>\n",
       "  <tbody>\n",
       "    <tr>\n",
       "      <th>0</th>\n",
       "      <td>4.01</td>\n",
       "      <td>female</td>\n",
       "      <td>historical-fiction,</td>\n",
       "      <td>74489</td>\n",
       "      <td>Victoria Thompson\\n</td>\n",
       "      <td>/author/show/74489.Victoria_Thompson</td>\n",
       "      <td>74399</td>\n",
       "      <td>6268</td>\n",
       "      <td>United States\\n</td>\n",
       "      <td>4.02</td>\n",
       "      <td>https://www.goodreads.com/book/show/686717.Mur...</td>\n",
       "      <td>686717</td>\n",
       "      <td>\\n      Murder on St. Mark's Place\\n</td>\n",
       "      <td>Mystery</td>\n",
       "      <td>Historical</td>\n",
       "      <td>5260</td>\n",
       "      <td>375</td>\n",
       "      <td>277</td>\n",
       "      <td>2000</td>\n",
       "      <td>3230</td>\n",
       "    </tr>\n",
       "    <tr>\n",
       "      <th>1</th>\n",
       "      <td>4.15</td>\n",
       "      <td>male</td>\n",
       "      <td>literature-fiction,mystery-thrillers,</td>\n",
       "      <td>706255</td>\n",
       "      <td>Stieg Larsson\\n</td>\n",
       "      <td>/author/show/706255.Stieg_Larsson</td>\n",
       "      <td>3726435</td>\n",
       "      <td>142704</td>\n",
       "      <td>Sweden\\n</td>\n",
       "      <td>4.13</td>\n",
       "      <td>https://www.goodreads.com/book/show/2429135.Th...</td>\n",
       "      <td>2429135</td>\n",
       "      <td>\\n      The Girl with the Dragon Tattoo\\n</td>\n",
       "      <td>Fiction</td>\n",
       "      <td>Mystery</td>\n",
       "      <td>2229163</td>\n",
       "      <td>65227</td>\n",
       "      <td>465</td>\n",
       "      <td>August 2005</td>\n",
       "      <td>3062</td>\n",
       "    </tr>\n",
       "    <tr>\n",
       "      <th>2</th>\n",
       "      <td>4.00</td>\n",
       "      <td>female</td>\n",
       "      <td>romance,</td>\n",
       "      <td>5618190</td>\n",
       "      <td>Mimi Jean Pamfiloff\\n</td>\n",
       "      <td>/author/show/5618190.Mimi_Jean_Pamfiloff</td>\n",
       "      <td>76496</td>\n",
       "      <td>7975</td>\n",
       "      <td>United States\\n</td>\n",
       "      <td>3.99</td>\n",
       "      <td>https://www.goodreads.com/book/show/27833684-t...</td>\n",
       "      <td>27833684</td>\n",
       "      <td>\\n      Tailored for Trouble\\n</td>\n",
       "      <td>Romance</td>\n",
       "      <td>Contemporary</td>\n",
       "      <td>2151</td>\n",
       "      <td>391</td>\n",
       "      <td>354</td>\n",
       "      <td>2016</td>\n",
       "      <td>4585</td>\n",
       "    </tr>\n",
       "    <tr>\n",
       "      <th>3</th>\n",
       "      <td>3.88</td>\n",
       "      <td>male</td>\n",
       "      <td>fiction,memoir,</td>\n",
       "      <td>37871</td>\n",
       "      <td>José Donoso\\n</td>\n",
       "      <td>/author/show/37871.Jos_Donoso</td>\n",
       "      <td>5522</td>\n",
       "      <td>489</td>\n",
       "      <td>Chile\\n</td>\n",
       "      <td>4.14</td>\n",
       "      <td>https://www.goodreads.com/book/show/382975.The...</td>\n",
       "      <td>382975</td>\n",
       "      <td>\\n      The Obscene Bird of Night\\n</td>\n",
       "      <td>Fiction</td>\n",
       "      <td>Magical Realism</td>\n",
       "      <td>1844</td>\n",
       "      <td>173</td>\n",
       "      <td>438</td>\n",
       "      <td>1970</td>\n",
       "      <td>1533</td>\n",
       "    </tr>\n",
       "    <tr>\n",
       "      <th>4</th>\n",
       "      <td>4.10</td>\n",
       "      <td>female</td>\n",
       "      <td>young-adult,fantasy,</td>\n",
       "      <td>36122</td>\n",
       "      <td>Patricia C. Wrede\\n</td>\n",
       "      <td>/author/show/36122.Patricia_C_Wrede</td>\n",
       "      <td>291013</td>\n",
       "      <td>13453</td>\n",
       "      <td>United States\\n</td>\n",
       "      <td>4.01</td>\n",
       "      <td>https://www.goodreads.com/book/show/64207.Sorc...</td>\n",
       "      <td>64207</td>\n",
       "      <td>\\n      Sorcery &amp; Cecelia: or The Enchanted Ch...</td>\n",
       "      <td>Fantasy</td>\n",
       "      <td>Young Adult</td>\n",
       "      <td>17051</td>\n",
       "      <td>1890</td>\n",
       "      <td>326</td>\n",
       "      <td>April 15th 1988</td>\n",
       "      <td>2105</td>\n",
       "    </tr>\n",
       "  </tbody>\n",
       "</table>\n",
       "</div>"
      ],
      "text/plain": [
       "   author_average_rating author_gender                          author_genres  \\\n",
       "0                   4.01        female                    historical-fiction,   \n",
       "1                   4.15          male  literature-fiction,mystery-thrillers,   \n",
       "2                   4.00        female                               romance,   \n",
       "3                   3.88          male                        fiction,memoir,   \n",
       "4                   4.10        female                   young-adult,fantasy,   \n",
       "\n",
       "   author_id            author_name                           author_page_url  \\\n",
       "0      74489    Victoria Thompson\\n      /author/show/74489.Victoria_Thompson   \n",
       "1     706255        Stieg Larsson\\n         /author/show/706255.Stieg_Larsson   \n",
       "2    5618190  Mimi Jean Pamfiloff\\n  /author/show/5618190.Mimi_Jean_Pamfiloff   \n",
       "3      37871          José Donoso\\n             /author/show/37871.Jos_Donoso   \n",
       "4      36122    Patricia C. Wrede\\n       /author/show/36122.Patricia_C_Wrede   \n",
       "\n",
       "   author_rating_count  author_review_count            birthplace  \\\n",
       "0                74399                 6268   United States\\n       \n",
       "1              3726435               142704          Sweden\\n       \n",
       "2                76496                 7975     United States\\n     \n",
       "3                 5522                  489           Chile\\n       \n",
       "4               291013                13453   United States\\n       \n",
       "\n",
       "   book_average_rating                                       book_fullurl  \\\n",
       "0                 4.02  https://www.goodreads.com/book/show/686717.Mur...   \n",
       "1                 4.13  https://www.goodreads.com/book/show/2429135.Th...   \n",
       "2                 3.99  https://www.goodreads.com/book/show/27833684-t...   \n",
       "3                 4.14  https://www.goodreads.com/book/show/382975.The...   \n",
       "4                 4.01  https://www.goodreads.com/book/show/64207.Sorc...   \n",
       "\n",
       "    book_id                                         book_title  genre_1  \\\n",
       "0    686717               \\n      Murder on St. Mark's Place\\n  Mystery   \n",
       "1   2429135          \\n      The Girl with the Dragon Tattoo\\n  Fiction   \n",
       "2  27833684                     \\n      Tailored for Trouble\\n  Romance   \n",
       "3    382975                \\n      The Obscene Bird of Night\\n  Fiction   \n",
       "4     64207  \\n      Sorcery & Cecelia: or The Enchanted Ch...  Fantasy   \n",
       "\n",
       "           genre_2  num_ratings  num_reviews pages     publish_date  score  \n",
       "0       Historical         5260          375   277             2000   3230  \n",
       "1          Mystery      2229163        65227   465      August 2005   3062  \n",
       "2     Contemporary         2151          391   354             2016   4585  \n",
       "3  Magical Realism         1844          173   438             1970   1533  \n",
       "4      Young Adult        17051         1890   326  April 15th 1988   2105  "
      ]
     },
     "execution_count": 4,
     "metadata": {},
     "output_type": "execute_result"
    }
   ],
   "source": [
    "df_books=pd.read_csv(\"datos/good_reads_final.csv\")\n",
    "df_books.head()"
   ]
  },
  {
   "cell_type": "markdown",
   "metadata": {},
   "source": [
    "Lo primero averiguamos el número de filas y columnas del data frame"
   ]
  },
  {
   "cell_type": "code",
   "execution_count": 6,
   "metadata": {},
   "outputs": [
    {
     "data": {
      "text/plain": [
       "(22891, 20)"
      ]
     },
     "execution_count": 6,
     "metadata": {},
     "output_type": "execute_result"
    }
   ],
   "source": [
    "\n",
    "df_books.shape"
   ]
  },
  {
   "cell_type": "markdown",
   "metadata": {},
   "source": [
    "#vamos a ver el nombre de cada columna para ver la información con la que podemos jugar"
   ]
  },
  {
   "cell_type": "code",
   "execution_count": 8,
   "metadata": {},
   "outputs": [
    {
     "data": {
      "text/plain": [
       "Index(['author_average_rating', 'author_gender', 'author_genres', 'author_id',\n",
       "       'author_name', 'author_page_url', 'author_rating_count',\n",
       "       'author_review_count', 'birthplace', 'book_average_rating',\n",
       "       'book_fullurl', 'book_id', 'book_title', 'genre_1', 'genre_2',\n",
       "       'num_ratings', 'num_reviews', 'pages', 'publish_date', 'score'],\n",
       "      dtype='object')"
      ]
     },
     "execution_count": 8,
     "metadata": {},
     "output_type": "execute_result"
    }
   ],
   "source": [
    "\n",
    "df_books.columns"
   ]
  },
  {
   "cell_type": "markdown",
   "metadata": {},
   "source": [
    "Vamos a ver el tipo de dato por columna. Lo hago con info porque así veo si hay algun Nan."
   ]
  },
  {
   "cell_type": "code",
   "execution_count": 11,
   "metadata": {},
   "outputs": [
    {
     "name": "stdout",
     "output_type": "stream",
     "text": [
      "<class 'pandas.core.frame.DataFrame'>\n",
      "RangeIndex: 22891 entries, 0 to 22890\n",
      "Data columns (total 20 columns):\n",
      " #   Column                 Non-Null Count  Dtype  \n",
      "---  ------                 --------------  -----  \n",
      " 0   author_average_rating  22891 non-null  float64\n",
      " 1   author_gender          22891 non-null  object \n",
      " 2   author_genres          22891 non-null  object \n",
      " 3   author_id              22891 non-null  int64  \n",
      " 4   author_name            22891 non-null  object \n",
      " 5   author_page_url        22891 non-null  object \n",
      " 6   author_rating_count    22891 non-null  int64  \n",
      " 7   author_review_count    22891 non-null  int64  \n",
      " 8   birthplace             22891 non-null  object \n",
      " 9   book_average_rating    22891 non-null  float64\n",
      " 10  book_fullurl           22891 non-null  object \n",
      " 11  book_id                22891 non-null  object \n",
      " 12  book_title             22891 non-null  object \n",
      " 13  genre_1                22891 non-null  object \n",
      " 14  genre_2                22891 non-null  object \n",
      " 15  num_ratings            22891 non-null  int64  \n",
      " 16  num_reviews            22891 non-null  int64  \n",
      " 17  pages                  22891 non-null  object \n",
      " 18  publish_date           22610 non-null  object \n",
      " 19  score                  22891 non-null  int64  \n",
      "dtypes: float64(2), int64(6), object(12)\n",
      "memory usage: 3.5+ MB\n"
     ]
    }
   ],
   "source": [
    "df_books.info()"
   ]
  },
  {
   "cell_type": "markdown",
   "metadata": {},
   "source": [
    "La única columna que me devuelve Nan es Publish Date, así que voy a ver el porcentaje que representan"
   ]
  },
  {
   "cell_type": "code",
   "execution_count": 14,
   "metadata": {},
   "outputs": [
    {
     "data": {
      "text/html": [
       "<div>\n",
       "<style scoped>\n",
       "    .dataframe tbody tr th:only-of-type {\n",
       "        vertical-align: middle;\n",
       "    }\n",
       "\n",
       "    .dataframe tbody tr th {\n",
       "        vertical-align: top;\n",
       "    }\n",
       "\n",
       "    .dataframe thead th {\n",
       "        text-align: right;\n",
       "    }\n",
       "</style>\n",
       "<table border=\"1\" class=\"dataframe\">\n",
       "  <thead>\n",
       "    <tr style=\"text-align: right;\">\n",
       "      <th></th>\n",
       "      <th>0</th>\n",
       "    </tr>\n",
       "  </thead>\n",
       "  <tbody>\n",
       "    <tr>\n",
       "      <th>publish_date</th>\n",
       "      <td>1.227557</td>\n",
       "    </tr>\n",
       "  </tbody>\n",
       "</table>\n",
       "</div>"
      ],
      "text/plain": [
       "                     0\n",
       "publish_date  1.227557"
      ]
     },
     "execution_count": 14,
     "metadata": {},
     "output_type": "execute_result"
    }
   ],
   "source": [
    "df_nulos = pd.DataFrame(df_books.isnull().sum()/df_books.shape[0]*100)\n",
    "df_nulos[df_nulos[0] > 0]"
   ]
  }
 ],
 "metadata": {
  "kernelspec": {
   "display_name": "Python 3.9.13 ('iron': conda)",
   "language": "python",
   "name": "python3"
  },
  "language_info": {
   "codemirror_mode": {
    "name": "ipython",
    "version": 3
   },
   "file_extension": ".py",
   "mimetype": "text/x-python",
   "name": "python",
   "nbconvert_exporter": "python",
   "pygments_lexer": "ipython3",
   "version": "3.9.13"
  },
  "orig_nbformat": 4,
  "vscode": {
   "interpreter": {
    "hash": "9a663b74384d2f44897fdded7e66d2264ff63e4137a495a11087e8697bb143f9"
   }
  }
 },
 "nbformat": 4,
 "nbformat_minor": 2
}
